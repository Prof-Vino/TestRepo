{
 "cells": [
  {
   "cell_type": "markdown",
   "id": "47a9ae19-96b6-4de0-b528-74d58b573512",
   "metadata": {},
   "source": [
    "Data Science Tools and Ecosystem"
   ]
  },
  {
   "cell_type": "markdown",
   "id": "5ffa1917-a54e-48aa-9923-77f8bf8fa8df",
   "metadata": {},
   "source": [
    "In this notebook, Data Science Tools and Ecosystem are summarized."
   ]
  },
  {
   "cell_type": "markdown",
   "id": "35a7d989-42fa-4f72-b730-81238288dc87",
   "metadata": {},
   "source": [
    "Some of the popular languages that Data Scientists use are:"
   ]
  },
  {
   "cell_type": "markdown",
   "id": "b3e6b1fc-ca88-4049-8423-b5e6097333b1",
   "metadata": {},
   "source": [
    "1. NumPy\r\n",
    "2. Pandas\r\n",
    "3. Matplotlib\r\n",
    "4. Scikit-learn\r\n",
    "5. TensorFlow"
   ]
  },
  {
   "cell_type": "markdown",
   "id": "3ff93696-3a79-4edf-9f87-e5f9aca0e502",
   "metadata": {},
   "source": [
    "| Data Science Tools         |\r\n",
    "|----------------------------|\r\n",
    "| Jupyter Notebook           |\r\n",
    "| RStudio                    |\r\n",
    "| Apache Zeppelin            |\r\n"
   ]
  },
  {
   "cell_type": "markdown",
   "id": "49c9d2c9-84ea-4e32-8698-850931474485",
   "metadata": {},
   "source": [
    "### Below are a few examples of evaluating arithmetic expressions in Python."
   ]
  },
  {
   "cell_type": "markdown",
   "id": "35215216-0385-4d59-9ade-b2ad0e28739f",
   "metadata": {},
   "source": [
    "This a simple arithmetic expression to mutiply then add integers"
   ]
  },
  {
   "cell_type": "code",
   "execution_count": 1,
   "id": "fc7c27ae-855f-4a7b-859b-86b88adb15b5",
   "metadata": {},
   "outputs": [
    {
     "data": {
      "text/plain": [
       "17"
      ]
     },
     "execution_count": 1,
     "metadata": {},
     "output_type": "execute_result"
    }
   ],
   "source": [
    "(3*4)+5"
   ]
  },
  {
   "cell_type": "markdown",
   "id": "bfe9a2b6-608b-48c8-81e1-c9cca05d0ce5",
   "metadata": {},
   "source": [
    "This will convert 200 minutes to hours by diving by 60"
   ]
  },
  {
   "cell_type": "code",
   "execution_count": 2,
   "id": "3de7ef27-a46e-4d43-a7cb-259273ae08f2",
   "metadata": {},
   "outputs": [
    {
     "data": {
      "text/plain": [
       "3.3333333333333335"
      ]
     },
     "execution_count": 2,
     "metadata": {},
     "output_type": "execute_result"
    }
   ],
   "source": [
    "200/60"
   ]
  },
  {
   "cell_type": "markdown",
   "id": "e90a431a-d199-4808-b84a-0f1c53c52f1a",
   "metadata": {},
   "source": [
    "List popular languages for Data Science"
   ]
  },
  {
   "cell_type": "markdown",
   "id": "0a577660-e1bc-49c9-b779-2d4e7496e2bd",
   "metadata": {},
   "source": [
    "1. NumPy\n",
    "2. Pandas\n",
    "3. Matplotlib\n",
    "4. Scikit-learn\n",
    "5. TensorFlow"
   ]
  },
  {
   "cell_type": "markdown",
   "id": "590f89ad-cf27-4b70-a068-0d4fe1ee9790",
   "metadata": {},
   "source": [
    "## Author  \r\n",
    "Vinodh Chellamuthu\r\n"
   ]
  }
 ],
 "metadata": {
  "kernelspec": {
   "display_name": "Python 3 (ipykernel)",
   "language": "python",
   "name": "python3"
  },
  "language_info": {
   "codemirror_mode": {
    "name": "ipython",
    "version": 3
   },
   "file_extension": ".py",
   "mimetype": "text/x-python",
   "name": "python",
   "nbconvert_exporter": "python",
   "pygments_lexer": "ipython3",
   "version": "3.11.7"
  }
 },
 "nbformat": 4,
 "nbformat_minor": 5
}
